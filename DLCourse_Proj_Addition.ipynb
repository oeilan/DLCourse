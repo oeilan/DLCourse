{
 "cells": [
  {
   "cell_type": "code",
   "execution_count": 1,
   "metadata": {},
   "outputs": [
    {
     "name": "stderr",
     "output_type": "stream",
     "text": [
      "Using TensorFlow backend.\n"
     ]
    },
    {
     "name": "stdout",
     "output_type": "stream",
     "text": [
      "2.0.8\n",
      "1.3.0\n"
     ]
    }
   ],
   "source": [
    "%matplotlib inline\n",
    "import matplotlib.pyplot as plt\n",
    "\n",
    "import keras\n",
    "from keras.models import Model, Sequential\n",
    "from keras.layers import *\n",
    "from keras.optimizers import Adam\n",
    "\n",
    "import tensorflow as tf\n",
    "import numpy as np\n",
    "\n",
    "import pandas as pd\n",
    "from collections import Counter\n",
    "from sklearn.model_selection import train_test_split\n",
    "\n",
    "print(keras.__version__)\n",
    "print(tf.__version__)"
   ]
  },
  {
   "cell_type": "code",
   "execution_count": 2,
   "metadata": {},
   "outputs": [
    {
     "name": "stdout",
     "output_type": "stream",
     "text": [
      "r:\n",
      "<class 'numpy.ndarray'> (100,)\n",
      "[ 0  1  2  3  4  5  6  7  8  9 10 11 12 13 14 15 16 17 18 19 20 21 22 23 24\n",
      " 25 26 27 28 29 30 31 32 33 34 35 36 37 38 39 40 41 42 43 44 45 46 47 48 49\n",
      " 50 51 52 53 54 55 56 57 58 59 60 61 62 63 64 65 66 67 68 69 70 71 72 73 74\n",
      " 75 76 77 78 79 80 81 82 83 84 85 86 87 88 89 90 91 92 93 94 95 96 97 98 99]\n",
      "----------------------------\n",
      "x:\n",
      "<class 'numpy.ndarray'> (10000, 2)\n",
      "Printing random sample 8909\n",
      "[ 89.   9.]\n",
      "[ 98.]\n",
      "----------------------------\n",
      "check x_all:\n",
      "x1_all: <class 'numpy.ndarray'> (10000, 100)\n",
      "x2_all: <class 'numpy.ndarray'> (10000, 100)\n",
      "x_all: <class 'numpy.ndarray'> (10000, 200)\n",
      "[ 1.  0.  0.  0.  0.  0.  0.  0.  0.  0.  0.  0.  0.  0.  0.  0.  0.  0.\n",
      "  0.  0.  0.  0.  0.  0.  0.  0.  0.  0.  0.  0.  0.  0.  0.  0.  0.  0.\n",
      "  0.  0.  0.  0.  0.  0.  0.  0.  0.  0.  0.  0.  0.  0.  0.  0.  0.  0.\n",
      "  0.  0.  0.  0.  0.  0.  0.  0.  0.  0.  0.  0.  0.  0.  0.  0.  0.  0.\n",
      "  0.  0.  0.  0.  0.  0.  0.  0.  0.  0.  0.  0.  0.  0.  0.  0.  0.  0.\n",
      "  0.  0.  0.  0.  0.  0.  0.  0.  0.  0.  1.  0.  0.  0.  0.  0.  0.  0.\n",
      "  0.  0.  0.  0.  0.  0.  0.  0.  0.  0.  0.  0.  0.  0.  0.  0.  0.  0.\n",
      "  0.  0.  0.  0.  0.  0.  0.  0.  0.  0.  0.  0.  0.  0.  0.  0.  0.  0.\n",
      "  0.  0.  0.  0.  0.  0.  0.  0.  0.  0.  0.  0.  0.  0.  0.  0.  0.  0.\n",
      "  0.  0.  0.  0.  0.  0.  0.  0.  0.  0.  0.  0.  0.  0.  0.  0.  0.  0.\n",
      "  0.  0.  0.  0.  0.  0.  0.  0.  0.  0.  0.  0.  0.  0.  0.  0.  0.  0.\n",
      "  0.  0.]\n",
      "[ 1.  0.  0.  0.  0.  0.  0.  0.  0.  0.  0.  0.  0.  0.  0.  0.  0.  0.\n",
      "  0.  0.  0.  0.  0.  0.  0.  0.  0.  0.  0.  0.  0.  0.  0.  0.  0.  0.\n",
      "  0.  0.  0.  0.  0.  0.  0.  0.  0.  0.  0.  0.  0.  0.  0.  0.  0.  0.\n",
      "  0.  0.  0.  0.  0.  0.  0.  0.  0.  0.  0.  0.  0.  0.  0.  0.  0.  0.\n",
      "  0.  0.  0.  0.  0.  0.  0.  0.  0.  0.  0.  0.  0.  0.  0.  0.  0.  0.\n",
      "  0.  0.  0.  0.  0.  0.  0.  0.  0.  0.  0.  1.  0.  0.  0.  0.  0.  0.\n",
      "  0.  0.  0.  0.  0.  0.  0.  0.  0.  0.  0.  0.  0.  0.  0.  0.  0.  0.\n",
      "  0.  0.  0.  0.  0.  0.  0.  0.  0.  0.  0.  0.  0.  0.  0.  0.  0.  0.\n",
      "  0.  0.  0.  0.  0.  0.  0.  0.  0.  0.  0.  0.  0.  0.  0.  0.  0.  0.\n",
      "  0.  0.  0.  0.  0.  0.  0.  0.  0.  0.  0.  0.  0.  0.  0.  0.  0.  0.\n",
      "  0.  0.  0.  0.  0.  0.  0.  0.  0.  0.  0.  0.  0.  0.  0.  0.  0.  0.\n",
      "  0.  0.]\n",
      "[ 0.  1.  0.  0.  0.  0.  0.  0.  0.  0.  0.  0.  0.  0.  0.  0.  0.  0.\n",
      "  0.  0.  0.  0.  0.  0.  0.  0.  0.  0.  0.  0.  0.  0.  0.  0.  0.  0.\n",
      "  0.  0.  0.  0.  0.  0.  0.  0.  0.  0.  0.  0.  0.  0.  0.  0.  0.  0.\n",
      "  0.  0.  0.  0.  0.  0.  0.  0.  0.  0.  0.  0.  0.  0.  0.  0.  0.  0.\n",
      "  0.  0.  0.  0.  0.  0.  0.  0.  0.  0.  0.  0.  0.  0.  0.  0.  0.  0.\n",
      "  0.  0.  0.  0.  0.  0.  0.  0.  0.  0.  1.  0.  0.  0.  0.  0.  0.  0.\n",
      "  0.  0.  0.  0.  0.  0.  0.  0.  0.  0.  0.  0.  0.  0.  0.  0.  0.  0.\n",
      "  0.  0.  0.  0.  0.  0.  0.  0.  0.  0.  0.  0.  0.  0.  0.  0.  0.  0.\n",
      "  0.  0.  0.  0.  0.  0.  0.  0.  0.  0.  0.  0.  0.  0.  0.  0.  0.  0.\n",
      "  0.  0.  0.  0.  0.  0.  0.  0.  0.  0.  0.  0.  0.  0.  0.  0.  0.  0.\n",
      "  0.  0.  0.  0.  0.  0.  0.  0.  0.  0.  0.  0.  0.  0.  0.  0.  0.  0.\n",
      "  0.  0.]\n",
      "----------------------------\n",
      "check x_all, y_all:\n",
      "Printing random sample 8909\n",
      "x_all[ 8909 ,:]\n",
      "[ 0.  0.  0.  0.  0.  0.  0.  0.  0.  0.  0.  0.  0.  0.  0.  0.  0.  0.\n",
      "  0.  0.  0.  0.  0.  0.  0.  0.  0.  0.  0.  0.  0.  0.  0.  0.  0.  0.\n",
      "  0.  0.  0.  0.  0.  0.  0.  0.  0.  0.  0.  0.  0.  0.  0.  0.  0.  0.\n",
      "  0.  0.  0.  0.  0.  0.  0.  0.  0.  0.  0.  0.  0.  0.  0.  0.  0.  0.\n",
      "  0.  0.  0.  0.  0.  0.  0.  0.  0.  0.  0.  0.  0.  0.  0.  0.  0.  1.\n",
      "  0.  0.  0.  0.  0.  0.  0.  0.  0.  0.  0.  0.  0.  0.  0.  0.  0.  0.\n",
      "  0.  1.  0.  0.  0.  0.  0.  0.  0.  0.  0.  0.  0.  0.  0.  0.  0.  0.\n",
      "  0.  0.  0.  0.  0.  0.  0.  0.  0.  0.  0.  0.  0.  0.  0.  0.  0.  0.\n",
      "  0.  0.  0.  0.  0.  0.  0.  0.  0.  0.  0.  0.  0.  0.  0.  0.  0.  0.\n",
      "  0.  0.  0.  0.  0.  0.  0.  0.  0.  0.  0.  0.  0.  0.  0.  0.  0.  0.\n",
      "  0.  0.  0.  0.  0.  0.  0.  0.  0.  0.  0.  0.  0.  0.  0.  0.  0.  0.\n",
      "  0.  0.]\n",
      "y_all[ 8909 ]\n",
      "[ 0.  0.  0.  0.  0.  0.  0.  0.  0.  0.  0.  0.  0.  0.  0.  0.  0.  0.\n",
      "  0.  0.  0.  0.  0.  0.  0.  0.  0.  0.  0.  0.  0.  0.  0.  0.  0.  0.\n",
      "  0.  0.  0.  0.  0.  0.  0.  0.  0.  0.  0.  0.  0.  0.  0.  0.  0.  0.\n",
      "  0.  0.  0.  0.  0.  0.  0.  0.  0.  0.  0.  0.  0.  0.  0.  0.  0.  0.\n",
      "  0.  0.  0.  0.  0.  0.  0.  0.  0.  0.  0.  0.  0.  0.  0.  0.  0.  0.\n",
      "  0.  0.  0.  0.  0.  0.  0.  0.  1.  0.  0.  0.  0.  0.  0.  0.  0.  0.\n",
      "  0.  0.  0.  0.  0.  0.  0.  0.  0.  0.  0.  0.  0.  0.  0.  0.  0.  0.\n",
      "  0.  0.  0.  0.  0.  0.  0.  0.  0.  0.  0.  0.  0.  0.  0.  0.  0.  0.\n",
      "  0.  0.  0.  0.  0.  0.  0.  0.  0.  0.  0.  0.  0.  0.  0.  0.  0.  0.\n",
      "  0.  0.  0.  0.  0.  0.  0.  0.  0.  0.  0.  0.  0.  0.  0.  0.  0.  0.\n",
      "  0.  0.  0.  0.  0.  0.  0.  0.  0.  0.  0.  0.  0.  0.  0.  0.  0.  0.\n",
      "  0.]\n",
      "----------------------------\n",
      "Shapes :\n",
      "x_all : (10000, 200)\n",
      "y_all : (10000, 199)\n"
     ]
    }
   ],
   "source": [
    "import random\n",
    "# input ranges from 0 to 99 > 100 possibilities, output from 0 to 198 > 199 possibilities\n",
    "Nin = 100\n",
    "Nin2 = Nin * Nin\n",
    "Nout = 199\n",
    "\n",
    "r = np.arange(Nin)\n",
    "print(\"r:\")\n",
    "print(type(r), r.shape)\n",
    "print(r)\n",
    "print(\"----------------------------\")\n",
    "\n",
    "x = np.ones((Nin2,2))\n",
    "y = np.ones((Nin2,1))\n",
    "\n",
    "for i in range(Nin):\n",
    "    for j in range(Nin):\n",
    "        x[i*Nin+j,0] = i\n",
    "        x[i*Nin+j,1] = j\n",
    "        y[i*Nin+j] = i+j\n",
    "print(\"x:\")\n",
    "print(type(x), x.shape)\n",
    "\n",
    "n = random.randint(0, Nin2)\n",
    "print(\"Printing random sample\",n)\n",
    "print(x[n,:])\n",
    "print(y[n])\n",
    "print(\"----------------------------\")\n",
    "\n",
    "x1_all = keras.utils.to_categorical(x[:,0], Nin)\n",
    "x2_all = keras.utils.to_categorical(x[:,1], Nin)\n",
    "x_all = np.append(x1_all, x2_all, axis=1)\n",
    "y_all = keras.utils.to_categorical(y, Nout)\n",
    "\n",
    "print(\"check x_all:\")\n",
    "print(\"x1_all:\",type(x1_all), x1_all.shape)\n",
    "print(\"x2_all:\",type(x2_all), x2_all.shape)\n",
    "print(\"x_all:\",type(x_all), x_all.shape)\n",
    "print(x_all[0,:])\n",
    "print(x_all[1,:])\n",
    "print(x_all[100,:])\n",
    "print(\"----------------------------\")\n",
    "\n",
    "print(\"check x_all, y_all:\")\n",
    "print(\"Printing random sample\",n)\n",
    "print(\"x_all[\",n,\",:]\")\n",
    "print(x_all[n,:])\n",
    "print(\"y_all[\",n,\"]\")\n",
    "print(y_all[n])\n",
    "\n",
    "print(\"----------------------------\")\n",
    "print(\"Shapes :\")\n",
    "print(\"x_all :\", x_all.shape)\n",
    "print(\"y_all :\", y_all.shape)\n",
    "\n"
   ]
  },
  {
   "cell_type": "code",
   "execution_count": 3,
   "metadata": {},
   "outputs": [
    {
     "name": "stdout",
     "output_type": "stream",
     "text": [
      "random samples shape: (10000,)\n",
      "random samples first 5 elements: [ 255 6078 2247 9251 9406]\n",
      "x_train, y_train shape: (10000, 200) (10000, 199)\n",
      "x_test, y_test shape: (2000, 200) (2000, 199)\n"
     ]
    }
   ],
   "source": [
    "# randomly select 8000 samples for train and 2000 samples for test data set\n",
    "random_samples = np.arange(Nin2)\n",
    "np.random.shuffle(random_samples)\n",
    "print(\"random samples shape:\", random_samples.shape)\n",
    "print(\"random samples first 5 elements:\", random_samples[0:5])\n",
    "train_samples = random_samples[:8000]\n",
    "test_samples = random_samples[8000:]\n",
    "\n",
    "x_train = x_all[random_samples]\n",
    "y_train = y_all[random_samples]\n",
    "x_test = x_all[test_samples]\n",
    "y_test = y_all[test_samples]\n",
    "print(\"x_train, y_train shape:\", x_train.shape, y_train.shape)\n",
    "print(\"x_test, y_test shape:\", x_test.shape, y_test.shape)\n",
    "\n",
    "# change all inputs to float type\n",
    "x_train = x_train.astype(float)\n",
    "x_test = x_test.astype(float)\n",
    "y_train = y_train.astype(float)\n",
    "y_test = y_test.astype(float)\n"
   ]
  },
  {
   "cell_type": "code",
   "execution_count": 9,
   "metadata": {},
   "outputs": [
    {
     "name": "stdout",
     "output_type": "stream",
     "text": [
      "_________________________________________________________________\n",
      "Layer (type)                 Output Shape              Param #   \n",
      "=================================================================\n",
      "input_2 (InputLayer)         (None, 200)               0         \n",
      "_________________________________________________________________\n",
      "Dense_1 (Dense)              (None, 200)               40200     \n",
      "_________________________________________________________________\n",
      "Outputlayer (Dense)          (None, 199)               39999     \n",
      "=================================================================\n",
      "Total params: 80,199\n",
      "Trainable params: 80,199\n",
      "Non-trainable params: 0\n",
      "_________________________________________________________________\n"
     ]
    }
   ],
   "source": [
    "# Training Parameters\n",
    "n_classes = Nout\n",
    "learning_rate = 0.3\n",
    "training_epochs = 100\n",
    "batch_size = 10\n",
    "\n",
    "# Network\n",
    "Inp = Input(shape=(x_train.shape[1],))\n",
    "x = Dense(200, activation=\"tanh\", name = \"Dense_1\")(Inp)\n",
    "output = Dense(Nout, activation=\"sigmoid\", name = \"Outputlayer\")(x)\n",
    "\n",
    "\n",
    "model = Model(Inp, output)\n",
    "model.summary()"
   ]
  },
  {
   "cell_type": "code",
   "execution_count": 10,
   "metadata": {
    "collapsed": true
   },
   "outputs": [],
   "source": [
    "model.compile(loss='categorical_crossentropy',\n",
    "              optimizer='SGD',\n",
    "              metrics=['accuracy'])\n"
   ]
  },
  {
   "cell_type": "code",
   "execution_count": 11,
   "metadata": {
    "collapsed": true
   },
   "outputs": [],
   "source": [
    "K.set_value(model.optimizer.lr, learning_rate)"
   ]
  },
  {
   "cell_type": "code",
   "execution_count": 12,
   "metadata": {
    "scrolled": true
   },
   "outputs": [
    {
     "name": "stdout",
     "output_type": "stream",
     "text": [
      "Train on 10000 samples, validate on 2000 samples\n",
      "Epoch 1/100\n",
      "10000/10000 [==============================] - 2s - loss: 5.1778 - acc: 0.0063 - val_loss: 5.0873 - val_acc: 0.0075\n",
      "Epoch 2/100\n",
      "10000/10000 [==============================] - 2s - loss: 5.0853 - acc: 0.0080 - val_loss: 5.0091 - val_acc: 0.0085\n",
      "Epoch 3/100\n",
      "10000/10000 [==============================] - 2s - loss: 4.9218 - acc: 0.0081 - val_loss: 4.7580 - val_acc: 0.0080\n",
      "Epoch 4/100\n",
      "10000/10000 [==============================] - 2s - loss: 4.5970 - acc: 0.0099 - val_loss: 4.3822 - val_acc: 0.0105\n",
      "Epoch 5/100\n",
      "10000/10000 [==============================] - 2s - loss: 4.2882 - acc: 0.0169 - val_loss: 4.1449 - val_acc: 0.0310\n",
      "Epoch 6/100\n",
      "10000/10000 [==============================] - 2s - loss: 4.0817 - acc: 0.0223 - val_loss: 3.9695 - val_acc: 0.0150\n",
      "Epoch 7/100\n",
      "10000/10000 [==============================] - 2s - loss: 3.9414 - acc: 0.0249 - val_loss: 3.8737 - val_acc: 0.0315\n",
      "Epoch 8/100\n",
      "10000/10000 [==============================] - 2s - loss: 3.8371 - acc: 0.0265 - val_loss: 3.7768 - val_acc: 0.0385\n",
      "Epoch 9/100\n",
      "10000/10000 [==============================] - 2s - loss: 3.7553 - acc: 0.0297 - val_loss: 3.7134 - val_acc: 0.0335\n",
      "Epoch 10/100\n",
      "10000/10000 [==============================] - 2s - loss: 3.6950 - acc: 0.0314 - val_loss: 3.6383 - val_acc: 0.0345\n",
      "Epoch 11/100\n",
      "10000/10000 [==============================] - 2s - loss: 3.6408 - acc: 0.0325 - val_loss: 3.5826 - val_acc: 0.0480\n",
      "Epoch 12/100\n",
      "10000/10000 [==============================] - 2s - loss: 3.5988 - acc: 0.0329 - val_loss: 3.5459 - val_acc: 0.0345\n",
      "Epoch 13/100\n",
      "10000/10000 [==============================] - 2s - loss: 3.5635 - acc: 0.0349 - val_loss: 3.5210 - val_acc: 0.0550\n",
      "Epoch 14/100\n",
      "10000/10000 [==============================] - 2s - loss: 3.5319 - acc: 0.0349 - val_loss: 3.5143 - val_acc: 0.0355\n",
      "Epoch 15/100\n",
      "10000/10000 [==============================] - 2s - loss: 3.5006 - acc: 0.0397 - val_loss: 3.4572 - val_acc: 0.0385\n",
      "Epoch 16/100\n",
      "10000/10000 [==============================] - 2s - loss: 3.4737 - acc: 0.0423 - val_loss: 3.4553 - val_acc: 0.0455\n",
      "Epoch 17/100\n",
      "10000/10000 [==============================] - 2s - loss: 3.4519 - acc: 0.0409 - val_loss: 3.4329 - val_acc: 0.0370\n",
      "Epoch 18/100\n",
      "10000/10000 [==============================] - 2s - loss: 3.4334 - acc: 0.0413 - val_loss: 3.4258 - val_acc: 0.0350\n",
      "Epoch 19/100\n",
      "10000/10000 [==============================] - 2s - loss: 3.4141 - acc: 0.0419 - val_loss: 3.3824 - val_acc: 0.0510\n",
      "Epoch 20/100\n",
      "10000/10000 [==============================] - 2s - loss: 3.3980 - acc: 0.0419 - val_loss: 3.3636 - val_acc: 0.0415\n",
      "Epoch 21/100\n",
      "10000/10000 [==============================] - 2s - loss: 3.3792 - acc: 0.0451 - val_loss: 3.3426 - val_acc: 0.0430\n",
      "Epoch 22/100\n",
      "10000/10000 [==============================] - 2s - loss: 3.3645 - acc: 0.0475 - val_loss: 3.3396 - val_acc: 0.0405\n",
      "Epoch 23/100\n",
      "10000/10000 [==============================] - 2s - loss: 3.3472 - acc: 0.0485 - val_loss: 3.3283 - val_acc: 0.0545\n",
      "Epoch 24/100\n",
      "10000/10000 [==============================] - 2s - loss: 3.3384 - acc: 0.0465 - val_loss: 3.3084 - val_acc: 0.0380\n",
      "Epoch 25/100\n",
      "10000/10000 [==============================] - 2s - loss: 3.3252 - acc: 0.0421 - val_loss: 3.2852 - val_acc: 0.0620\n",
      "Epoch 26/100\n",
      "10000/10000 [==============================] - 2s - loss: 3.3133 - acc: 0.0474 - val_loss: 3.3122 - val_acc: 0.0500\n",
      "Epoch 27/100\n",
      "10000/10000 [==============================] - 2s - loss: 3.3056 - acc: 0.0520 - val_loss: 3.2720 - val_acc: 0.0500\n",
      "Epoch 28/100\n",
      "10000/10000 [==============================] - 2s - loss: 3.2917 - acc: 0.0498 - val_loss: 3.2483 - val_acc: 0.0610\n",
      "Epoch 29/100\n",
      "10000/10000 [==============================] - 2s - loss: 3.2752 - acc: 0.0549 - val_loss: 3.3300 - val_acc: 0.0400\n",
      "Epoch 30/100\n",
      "10000/10000 [==============================] - 2s - loss: 3.2708 - acc: 0.0513 - val_loss: 3.2450 - val_acc: 0.0570\n",
      "Epoch 31/100\n",
      "10000/10000 [==============================] - 2s - loss: 3.2632 - acc: 0.0526 - val_loss: 3.2481 - val_acc: 0.0435\n",
      "Epoch 32/100\n",
      "10000/10000 [==============================] - 2s - loss: 3.2504 - acc: 0.0544 - val_loss: 3.2581 - val_acc: 0.0545\n",
      "Epoch 33/100\n",
      "10000/10000 [==============================] - 2s - loss: 3.2409 - acc: 0.0580 - val_loss: 3.2312 - val_acc: 0.0540\n",
      "Epoch 34/100\n",
      "10000/10000 [==============================] - 2s - loss: 3.2332 - acc: 0.0557 - val_loss: 3.1674 - val_acc: 0.0765\n",
      "Epoch 35/100\n",
      "10000/10000 [==============================] - 2s - loss: 3.2286 - acc: 0.0544 - val_loss: 3.1968 - val_acc: 0.0725\n",
      "Epoch 36/100\n",
      "10000/10000 [==============================] - 2s - loss: 3.2125 - acc: 0.0586 - val_loss: 3.2459 - val_acc: 0.0455\n",
      "Epoch 37/100\n",
      "10000/10000 [==============================] - 2s - loss: 3.2151 - acc: 0.0507 - val_loss: 3.1571 - val_acc: 0.0590\n",
      "Epoch 38/100\n",
      "10000/10000 [==============================] - 2s - loss: 3.2033 - acc: 0.0559 - val_loss: 3.1616 - val_acc: 0.0700\n",
      "Epoch 39/100\n",
      "10000/10000 [==============================] - 2s - loss: 3.1950 - acc: 0.0603 - val_loss: 3.1734 - val_acc: 0.0540\n",
      "Epoch 40/100\n",
      "10000/10000 [==============================] - 2s - loss: 3.1859 - acc: 0.0602 - val_loss: 3.2369 - val_acc: 0.0625\n",
      "Epoch 41/100\n",
      "10000/10000 [==============================] - 2s - loss: 3.1773 - acc: 0.0628 - val_loss: 3.1393 - val_acc: 0.0795\n",
      "Epoch 42/100\n",
      "10000/10000 [==============================] - 2s - loss: 3.1743 - acc: 0.0588 - val_loss: 3.1560 - val_acc: 0.0575\n",
      "Epoch 43/100\n",
      "10000/10000 [==============================] - 2s - loss: 3.1635 - acc: 0.0597 - val_loss: 3.1450 - val_acc: 0.0670\n",
      "Epoch 44/100\n",
      "10000/10000 [==============================] - 2s - loss: 3.1580 - acc: 0.0644 - val_loss: 3.2030 - val_acc: 0.0605\n",
      "Epoch 45/100\n",
      "10000/10000 [==============================] - 2s - loss: 3.1517 - acc: 0.0618 - val_loss: 3.1504 - val_acc: 0.0665\n",
      "Epoch 46/100\n",
      "10000/10000 [==============================] - 2s - loss: 3.1432 - acc: 0.0655 - val_loss: 3.0929 - val_acc: 0.0820\n",
      "Epoch 47/100\n",
      "10000/10000 [==============================] - 2s - loss: 3.1421 - acc: 0.0608 - val_loss: 3.1239 - val_acc: 0.0595\n",
      "Epoch 48/100\n",
      "10000/10000 [==============================] - 2s - loss: 3.1301 - acc: 0.0661 - val_loss: 3.1084 - val_acc: 0.0725\n",
      "Epoch 49/100\n",
      "10000/10000 [==============================] - 2s - loss: 3.1202 - acc: 0.0685 - val_loss: 3.1160 - val_acc: 0.0735\n",
      "Epoch 50/100\n",
      "10000/10000 [==============================] - 2s - loss: 3.1210 - acc: 0.0635 - val_loss: 3.1273 - val_acc: 0.0675\n",
      "Epoch 51/100\n",
      "10000/10000 [==============================] - 2s - loss: 3.1128 - acc: 0.0680 - val_loss: 3.0829 - val_acc: 0.0735\n",
      "Epoch 52/100\n",
      "10000/10000 [==============================] - 2s - loss: 3.1058 - acc: 0.0672 - val_loss: 3.0886 - val_acc: 0.0685\n",
      "Epoch 53/100\n",
      "10000/10000 [==============================] - 2s - loss: 3.0975 - acc: 0.0657 - val_loss: 3.0466 - val_acc: 0.0735\n",
      "Epoch 54/100\n",
      "10000/10000 [==============================] - 2s - loss: 3.0916 - acc: 0.0679 - val_loss: 3.0550 - val_acc: 0.0890\n",
      "Epoch 55/100\n",
      "10000/10000 [==============================] - 2s - loss: 3.0776 - acc: 0.0730 - val_loss: 3.0982 - val_acc: 0.0675\n",
      "Epoch 56/100\n",
      "10000/10000 [==============================] - 2s - loss: 3.0735 - acc: 0.0743 - val_loss: 2.9796 - val_acc: 0.1010\n",
      "Epoch 57/100\n",
      "10000/10000 [==============================] - 2s - loss: 3.0654 - acc: 0.0710 - val_loss: 3.0852 - val_acc: 0.0615\n",
      "Epoch 58/100\n",
      "10000/10000 [==============================] - 2s - loss: 3.0544 - acc: 0.0736 - val_loss: 3.0300 - val_acc: 0.0820\n",
      "Epoch 59/100\n",
      "10000/10000 [==============================] - 2s - loss: 3.0564 - acc: 0.0702 - val_loss: 2.9800 - val_acc: 0.0760\n",
      "Epoch 60/100\n",
      "10000/10000 [==============================] - 2s - loss: 3.0419 - acc: 0.0730 - val_loss: 3.0356 - val_acc: 0.0780\n",
      "Epoch 61/100\n",
      "10000/10000 [==============================] - 2s - loss: 3.0363 - acc: 0.0726 - val_loss: 3.0013 - val_acc: 0.0825\n",
      "Epoch 62/100\n",
      "10000/10000 [==============================] - 2s - loss: 3.0192 - acc: 0.0774 - val_loss: 3.0195 - val_acc: 0.0690\n",
      "Epoch 63/100\n",
      "10000/10000 [==============================] - 2s - loss: 3.0136 - acc: 0.0757 - val_loss: 2.9789 - val_acc: 0.0930\n",
      "Epoch 64/100\n"
     ]
    },
    {
     "name": "stdout",
     "output_type": "stream",
     "text": [
      "10000/10000 [==============================] - 2s - loss: 2.9998 - acc: 0.0791 - val_loss: 2.9663 - val_acc: 0.0720\n",
      "Epoch 65/100\n",
      "10000/10000 [==============================] - 2s - loss: 2.9908 - acc: 0.0813 - val_loss: 3.0171 - val_acc: 0.0695\n",
      "Epoch 66/100\n",
      "10000/10000 [==============================] - 2s - loss: 2.9787 - acc: 0.0781 - val_loss: 2.9880 - val_acc: 0.0915\n",
      "Epoch 67/100\n",
      "10000/10000 [==============================] - 2s - loss: 2.9652 - acc: 0.0836 - val_loss: 2.9686 - val_acc: 0.0820\n",
      "Epoch 68/100\n",
      "10000/10000 [==============================] - 2s - loss: 2.9624 - acc: 0.0806 - val_loss: 3.0617 - val_acc: 0.0730\n",
      "Epoch 69/100\n",
      "10000/10000 [==============================] - 2s - loss: 2.9439 - acc: 0.0858 - val_loss: 2.9552 - val_acc: 0.0850\n",
      "Epoch 70/100\n",
      "10000/10000 [==============================] - 2s - loss: 2.9310 - acc: 0.0894 - val_loss: 2.9203 - val_acc: 0.09300.0\n",
      "Epoch 71/100\n",
      "10000/10000 [==============================] - 2s - loss: 2.9121 - acc: 0.0932 - val_loss: 2.8661 - val_acc: 0.1100\n",
      "Epoch 72/100\n",
      "10000/10000 [==============================] - 2s - loss: 2.8985 - acc: 0.0921 - val_loss: 2.9007 - val_acc: 0.0945\n",
      "Epoch 73/100\n",
      "10000/10000 [==============================] - 2s - loss: 2.8848 - acc: 0.0947 - val_loss: 2.8536 - val_acc: 0.0980\n",
      "Epoch 74/100\n",
      "10000/10000 [==============================] - 2s - loss: 2.8742 - acc: 0.0929 - val_loss: 2.8524 - val_acc: 0.0970\n",
      "Epoch 75/100\n",
      "10000/10000 [==============================] - 2s - loss: 2.8523 - acc: 0.0995 - val_loss: 2.8124 - val_acc: 0.0950\n",
      "Epoch 76/100\n",
      "10000/10000 [==============================] - 2s - loss: 2.8335 - acc: 0.1042 - val_loss: 2.8616 - val_acc: 0.0990\n",
      "Epoch 77/100\n",
      "10000/10000 [==============================] - 2s - loss: 2.8212 - acc: 0.1088 - val_loss: 2.8217 - val_acc: 0.1125\n",
      "Epoch 78/100\n",
      "10000/10000 [==============================] - 2s - loss: 2.8025 - acc: 0.1055 - val_loss: 2.8037 - val_acc: 0.1015\n",
      "Epoch 79/100\n",
      "10000/10000 [==============================] - 2s - loss: 2.7832 - acc: 0.1131 - val_loss: 2.8148 - val_acc: 0.1145\n",
      "Epoch 80/100\n",
      "10000/10000 [==============================] - 2s - loss: 2.7661 - acc: 0.1180 - val_loss: 2.7034 - val_acc: 0.1405\n",
      "Epoch 81/100\n",
      "10000/10000 [==============================] - 2s - loss: 2.7522 - acc: 0.1162 - val_loss: 2.7247 - val_acc: 0.1415\n",
      "Epoch 82/100\n",
      "10000/10000 [==============================] - 2s - loss: 2.7285 - acc: 0.1192 - val_loss: 2.7415 - val_acc: 0.1140\n",
      "Epoch 83/100\n",
      "10000/10000 [==============================] - 2s - loss: 2.7116 - acc: 0.1282 - val_loss: 2.6983 - val_acc: 0.1380\n",
      "Epoch 84/100\n",
      "10000/10000 [==============================] - 2s - loss: 2.6908 - acc: 0.1309 - val_loss: 2.6861 - val_acc: 0.1505\n",
      "Epoch 85/100\n",
      "10000/10000 [==============================] - 2s - loss: 2.6744 - acc: 0.1331 - val_loss: 2.6537 - val_acc: 0.1495\n",
      "Epoch 86/100\n",
      "10000/10000 [==============================] - 2s - loss: 2.6560 - acc: 0.1407 - val_loss: 2.6453 - val_acc: 0.1645\n",
      "Epoch 87/100\n",
      "10000/10000 [==============================] - 2s - loss: 2.6402 - acc: 0.1432 - val_loss: 2.6112 - val_acc: 0.1515\n",
      "Epoch 88/100\n",
      "10000/10000 [==============================] - 2s - loss: 2.6261 - acc: 0.1464 - val_loss: 2.5956 - val_acc: 0.1785\n",
      "Epoch 89/100\n",
      "10000/10000 [==============================] - 2s - loss: 2.6077 - acc: 0.1494 - val_loss: 2.5964 - val_acc: 0.1645\n",
      "Epoch 90/100\n",
      "10000/10000 [==============================] - 2s - loss: 2.5937 - acc: 0.1514 - val_loss: 2.5549 - val_acc: 0.1765\n",
      "Epoch 91/100\n",
      "10000/10000 [==============================] - 2s - loss: 2.5718 - acc: 0.1593 - val_loss: 2.5561 - val_acc: 0.1665\n",
      "Epoch 92/100\n",
      "10000/10000 [==============================] - 2s - loss: 2.5651 - acc: 0.1622 - val_loss: 2.5317 - val_acc: 0.1940\n",
      "Epoch 93/100\n",
      "10000/10000 [==============================] - 2s - loss: 2.5501 - acc: 0.1618 - val_loss: 2.5327 - val_acc: 0.1765\n",
      "Epoch 94/100\n",
      "10000/10000 [==============================] - 2s - loss: 2.5332 - acc: 0.1709 - val_loss: 2.5243 - val_acc: 0.1645\n",
      "Epoch 95/100\n",
      "10000/10000 [==============================] - 2s - loss: 2.5224 - acc: 0.1771 - val_loss: 2.5205 - val_acc: 0.1990\n",
      "Epoch 96/100\n",
      "10000/10000 [==============================] - 2s - loss: 2.5091 - acc: 0.1759 - val_loss: 2.4842 - val_acc: 0.1780\n",
      "Epoch 97/100\n",
      "10000/10000 [==============================] - 2s - loss: 2.4926 - acc: 0.1837 - val_loss: 2.4848 - val_acc: 0.1900\n",
      "Epoch 98/100\n",
      "10000/10000 [==============================] - 2s - loss: 2.4798 - acc: 0.1894 - val_loss: 2.4593 - val_acc: 0.2015\n",
      "Epoch 99/100\n",
      "10000/10000 [==============================] - 2s - loss: 2.4716 - acc: 0.1847 - val_loss: 2.4536 - val_acc: 0.2045\n",
      "Epoch 100/100\n",
      "10000/10000 [==============================] - 2s - loss: 2.4579 - acc: 0.1875 - val_loss: 2.4327 - val_acc: 0.1955\n"
     ]
    }
   ],
   "source": [
    "history = model.fit(x_train, y_train,\n",
    "                    batch_size=batch_size,\n",
    "                    epochs=training_epochs,\n",
    "                    verbose=1, # This is for what we want it to display out as it trains \n",
    "                    validation_data=(x_test, y_test))"
   ]
  },
  {
   "cell_type": "code",
   "execution_count": 13,
   "metadata": {},
   "outputs": [
    {
     "data": {
      "image/png": "[encoded data removed]",
      "text/plain": [
       "<matplotlib.figure.Figure at 0x2ed39a79588>"
      ]
     },
     "metadata": {},
     "output_type": "display_data"
    }
   ],
   "source": [
    "def plot_train(hist):\n",
    "    h = hist.history\n",
    "    if 'acc' in h:\n",
    "        meas='acc'\n",
    "        loc='lower right'\n",
    "    else:\n",
    "        meas='loss'\n",
    "        loc='upper right'\n",
    "    plt.plot(hist.history[meas])\n",
    "    plt.plot(hist.history['val_'+meas])\n",
    "    plt.title('model '+meas)\n",
    "    plt.ylabel(meas)\n",
    "    plt.xlabel('epoch')\n",
    "    plt.legend(['train', 'validation'], loc=loc)\n",
    "\n",
    "plot_train(history)"
   ]
  },
  {
   "attachments": {
    "image.png": {
     "image/png": "[encoded data removed]"
    }
   },
   "cell_type": "markdown",
   "metadata": {},
   "source": [
    "![image.png](attachment:image.png)\n",
    "1 Hidden Layer of 200 nodes, relu activation\n",
    "learning_rate = 0.3\n",
    "training_epochs = 100\n",
    "batch_size = 10\n",
    "Trained on all possible datapoints arranged in order\n",
    "Observation : S-shaped convergence; bigger batch size requires more epochs to reach same accuracy; tanh activation converges a lot slower\n"
   ]
  },
  {
   "attachments": {
    "image.png": {
     "image/png": "[encoded data removed]"
    }
   },
   "cell_type": "markdown",
   "metadata": {},
   "source": [
    "![image.png](attachment:image.png)\n",
    "1 hidden layer with 100 nodes, tanh activation\n",
    "learning_rate = 0.3\n",
    "training_epochs = 50\n",
    "batch_size = 10\n",
    "Trained on all possible datapoints arranged in order\n",
    "Low accuracy after 100 epochs; relu activation for hidden layer produced worse accuracy after 100 epochs"
   ]
  },
  {
   "attachments": {
    "image.png": {
     "image/png": "[encoded data removed]"
    }
   },
   "cell_type": "markdown",
   "metadata": {},
   "source": [
    "## ![image.png](attachment:image.png)\n",
    "1 hidden layer with 50 nodes, relu activation\n",
    "learning_rate = 0.3\n",
    "training_epochs = 150\n",
    "batch_size = 10\n",
    "Trained on all possible datapoints arranged in order\n",
    "Low accuracy after 150 epochs"
   ]
  },
  {
   "cell_type": "code",
   "execution_count": 22,
   "metadata": {
    "collapsed": true
   },
   "outputs": [],
   "source": [
    "model.save(\"Week1_Addition_MyWIP\")"
   ]
  },
  {
   "cell_type": "code",
   "execution_count": 31,
   "metadata": {
    "collapsed": true
   },
   "outputs": [],
   "source": [
    "w = model.get_weights()"
   ]
  },
  {
   "cell_type": "code",
   "execution_count": 32,
   "metadata": {},
   "outputs": [
    {
     "name": "stdout",
     "output_type": "stream",
     "text": [
      "<class 'list'> 4\n",
      "<class 'numpy.ndarray'> (200, 200)\n",
      "<class 'numpy.ndarray'> (200,)\n",
      "<class 'numpy.ndarray'> (200, 199)\n",
      "<class 'numpy.ndarray'> (199,)\n"
     ]
    }
   ],
   "source": [
    "print(type(w), len(w))\n",
    "for i in range(len(w)):\n",
    "    print(type(w[i]), w[i].shape)\n"
   ]
  },
  {
   "cell_type": "code",
   "execution_count": 33,
   "metadata": {},
   "outputs": [
    {
     "name": "stdout",
     "output_type": "stream",
     "text": [
      "[-0.62900299 -0.69123751  0.5536086  -0.4906531  -0.1311451  -0.74117482\n",
      " -0.04984578 -0.397899   -0.75077391 -0.21343242 -0.71741992  0.56837422\n",
      " -0.12290693 -0.53354365  0.75631595  0.5854429   1.66002595 -0.29482859\n",
      "  0.37710133  0.18910253  0.36267006 -0.37839317 -0.65908647  0.73827022\n",
      " -0.03924908 -0.08563539  0.45356777  0.08030151 -0.24728888  0.79193497\n",
      "  0.10930358  0.87602723  1.40035915 -0.56679577  0.01795793  0.87389004\n",
      "  1.10090482 -0.221191   -0.93399161 -0.40224347  0.38707492 -0.25906104\n",
      "  0.60287189 -0.85582072 -0.72859013 -0.36636886 -0.69069034 -0.25832212\n",
      " -0.45052043 -0.49770749  0.82238603 -0.49955124  0.0889134  -0.47314772\n",
      "  0.46477255  0.90786076 -0.72238302  0.2484479  -0.41491669 -0.45492473\n",
      " -0.44916859  1.3606199   1.28524613 -0.26577562 -1.05692303 -0.31772259\n",
      "  0.89002723  1.79829109 -0.24414843 -0.96140188 -0.38549769 -0.65626264\n",
      "  0.52289706 -0.21760315 -0.48512039 -0.28887123  0.60154259 -0.89330941\n",
      " -0.65108079 -0.04892375  0.51629508 -0.19785385 -0.08112402 -0.58770156\n",
      " -0.17414422 -0.40956962 -0.7174257  -1.11369419 -0.6129024  -0.81915939\n",
      " -0.12450591 -1.02145219  0.11128973 -1.2993089  -0.66341424  0.04541087\n",
      " -0.20075841 -0.17430748  1.2063297   0.53097647  0.01851231  0.38767761\n",
      " -0.28893927 -0.19919266 -0.01793519 -0.65292144  1.15862525 -1.161165\n",
      "  1.05292857  0.94406313 -0.87038606 -0.85696846  0.79167944 -0.56507671\n",
      "  0.66151887  0.94770002 -0.01332176 -0.20894724  0.51942366  1.16743743\n",
      "  0.27046576 -0.7318663  -0.39019629 -0.76244855  0.1572291   0.15761371\n",
      " -0.9382174  -0.2329714  -0.57369423  0.13513678 -1.01001024 -0.4816474\n",
      " -1.92306173  0.70781928  1.37039125 -0.28982905 -0.045024   -0.71463037\n",
      "  0.7396906  -1.03491294  0.97552127  0.07033528  0.39933026 -0.49399397\n",
      " -0.06650121 -1.05364299 -0.57435334 -0.14877006  0.11692742 -0.25203884\n",
      " -0.04405085 -0.55572534  1.0976193  -0.6997931   0.51415497  0.05884219\n",
      " -0.34335259 -0.40198424 -0.44383967  0.6321736   0.78601104  0.26398343\n",
      " -1.0403024   1.12004995  1.20731139  0.98523301 -0.02900664  0.39253643\n",
      "  1.26712215 -0.07451453 -0.44689333  1.26810098 -0.95753264  0.23530506\n",
      "  0.2242157  -0.33433682  0.03388211  0.74573964 -0.89612722 -0.51337963\n",
      "  0.40425083 -1.14111853 -1.21712875 -1.44622016 -0.1265332   0.53022689\n",
      " -0.88505334  0.08272204 -0.51280463 -0.72419059 -0.71895117 -1.10426629\n",
      "  0.12202939  0.5162878   0.08709386 -0.19260024 -1.76722395  1.12592137\n",
      " -1.5257504   1.01639962]\n"
     ]
    }
   ],
   "source": [
    "print(w[0][0,:])"
   ]
  },
  {
   "cell_type": "code",
   "execution_count": null,
   "metadata": {
    "collapsed": true
   },
   "outputs": [],
   "source": []
  }
 ],
 "metadata": {
  "celltoolbar": "Attachments",
  "kernelspec": {
   "display_name": "Python 3",
   "language": "python",
   "name": "python3"
  },
  "language_info": {
   "codemirror_mode": {
    "name": "ipython",
    "version": 3
   },
   "file_extension": ".py",
   "mimetype": "text/x-python",
   "name": "python",
   "nbconvert_exporter": "python",
   "pygments_lexer": "ipython3",
   "version": "3.6.2"
  }
 },
 "nbformat": 4,
 "nbformat_minor": 2
}
